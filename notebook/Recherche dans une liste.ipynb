{
 "cells": [
  {
   "cell_type": "markdown",
   "metadata": {},
   "source": [
    "#  <font color=\"darkred\"> &#10070; Comparaison entre recherche simple et recherche par dichotomie</font>\n",
    "\n",
    "## <font color=\"darkblue\"> &diams; Recherche simple </font>\n",
    "\n",
    "Un algorithme simple de **recherche d'un élément dans une liste** consiste à parcourir la liste depuis le premier élément. Si on rencontre l'élément recherché, on renvoie `True`, si on atteint la fin de la liste on renvoie `False`. La fonction Python ci-dessous (voir activité 1 du chapitre), implémente cet algorithme :\n"
   ]
  },
  {
   "cell_type": "code",
   "execution_count": 16,
   "metadata": {},
   "outputs": [],
   "source": [
    "def recherche(element,liste):\n",
    "    ''' Renvoie True si element est dans liste, False sinon '''\n",
    "    for x in liste:\n",
    "        # Si x est bien égal à élément renvoyer True sinon continuer le parcours\n",
    "        if x==element: \n",
    "            return True\n",
    "    # Si on atteint la ligne suivante on renvoie False puisqu'aucun élément n'est égal à celui recherché\n",
    "    return False"
   ]
  },
  {
   "cell_type": "markdown",
   "metadata": {},
   "source": [
    "## <font color=green> &#9998; Exercices </font>\n",
    "1. <font color=green> <b>Exécuter</b> la cellule précédente </font>"
   ]
  },
  {
   "cell_type": "markdown",
   "metadata": {},
   "source": [
    "2. <font color=green> <b>Proposer</b> un jeu de tests pour cette fonction</font><br>"
   ]
  },
  {
   "cell_type": "code",
   "execution_count": 1,
   "metadata": {
    "collapsed": true
   },
   "outputs": [],
   "source": [
    "# Tests de la fonction recherche\n"
   ]
  },
  {
   "cell_type": "markdown",
   "metadata": {},
   "source": [
    "## <font color=\"darkblue\"> &diams; Temps d'exécution de la recherche simple</font>\n",
    "\n",
    "On souhaite mesure le temps d'exécution de notre fonction lorsque la taille de la liste augmente, on utilise le module `time` de Python.\n",
    "\n",
    "### <font color='red'>&#9888;</font> Attention !\n",
    "Ces mesures sont forcément imprécises car elles dépendent des demandes des autres applications s'executant sur l'ordinateur.\n",
    "\n",
    "On donne ci-dessous La fonction `temps_execution(n)` qui renvoie pour une liste de longueur `n` le temps d'exécution de la fonction `recherche` ci-dessus."
   ]
  },
  {
   "cell_type": "code",
   "execution_count": 17,
   "metadata": {},
   "outputs": [],
   "source": [
    "import time\n",
    "\n",
    "def temps_execution(n):\n",
    "    # On crée la liste des n premiers entiers\n",
    "    liste = [i for i in range(0,n)]\n",
    "    # On y recherche -1 (qui n'y est pas !) en mesurant le temps d'exécution\n",
    "    debut = time.time()\n",
    "    recherche(-1,liste)\n",
    "    fin = time.time()\n",
    "    return fin-debut"
   ]
  },
  {
   "cell_type": "markdown",
   "metadata": {},
   "source": [
    "Pour obtenir une **estimation** du temps d'exécution de l'algorithme de recherche sur une liste de 10000 éléments, il suffit d'écrire :"
   ]
  },
  {
   "cell_type": "code",
   "execution_count": 12,
   "metadata": {},
   "outputs": [
    {
     "data": {
      "text/plain": [
       "0.0002067089080810547"
      ]
     },
     "execution_count": 12,
     "metadata": {},
     "output_type": "execute_result"
    }
   ],
   "source": [
    "temps_execution(10000)"
   ]
  },
  {
   "cell_type": "markdown",
   "metadata": {},
   "source": [
    "## <font color=green> &#9998; Exercices </font>\n",
    "3. <font color=green> Quel est le temps d'exécution pour une liste de 100000 éléments ?</font>"
   ]
  },
  {
   "cell_type": "code",
   "execution_count": null,
   "metadata": {
    "collapsed": true
   },
   "outputs": [],
   "source": [
    "# Votre réponse ici\n"
   ]
  },
  {
   "cell_type": "markdown",
   "metadata": {},
   "source": [
    "4. <font color=green> Construire par la méthode de votre choix, une liste `x` contenant les valeurs suivantes : <code>[100000,200000,300000,...,20000000]</code> (les multiples de 100000 jusqu'à deux millions)</font>"
   ]
  },
  {
   "cell_type": "code",
   "execution_count": 7,
   "metadata": {
    "collapsed": true
   },
   "outputs": [],
   "source": [
    "# Votre réponse ici (penser à utiliser une liste définie par compréhension)\n"
   ]
  },
  {
   "cell_type": "markdown",
   "metadata": {},
   "source": [
    "5. <font color='green'>Construire une liste <code>y</code> contenant les temps d'exécution pour les valeurs de longeur de liste prise dans la liste <code>x</code> construite ci-dessus</font>."
   ]
  },
  {
   "cell_type": "code",
   "execution_count": null,
   "metadata": {
    "collapsed": true
   },
   "outputs": [],
   "source": [
    "# Votre réponse ici\n"
   ]
  },
  {
   "cell_type": "markdown",
   "metadata": {},
   "source": [
    "On utilise maintenant la bibliothèque `matplotlib` afin de tracer le graphique des temps d'exécution (valeurs de la liste `y`) en fonction de la longueur de la liste (valeurs de la liste `x`) :"
   ]
  },
  {
   "cell_type": "code",
   "execution_count": null,
   "metadata": {},
   "outputs": [],
   "source": [
    "# Allure du graphique avec matplotlib\n",
    "import matplotlib.pyplot as plt\n",
    "plt.xlabel(\"Taille des donnés\")\n",
    "plt.ylabel(\"Temps d'exécution\")\n",
    "plt.suptitle(\"Recherche par parcours simple\")\n",
    "plt.plot(x, y)"
   ]
  },
  {
   "cell_type": "markdown",
   "metadata": {},
   "source": [
    "## <font color=green> &#9998; Exercices </font>\n",
    "6. <font color=green> Quel est l'allure du graphique obtenu ? </font>"
   ]
  },
  {
   "cell_type": "markdown",
   "metadata": {},
   "source": [
    "Réponse ici\n"
   ]
  },
  {
   "cell_type": "markdown",
   "metadata": {},
   "source": [
    "7. <font color=green> Quelle est la relation entre la longueur de la liste et le temps d'exécution ? </font>"
   ]
  },
  {
   "cell_type": "markdown",
   "metadata": {},
   "source": [
    "Réponse ici\n"
   ]
  },
  {
   "cell_type": "markdown",
   "metadata": {},
   "source": [
    "8. <font color=green> Sur un ordinateur <code>temps_execution(10000000)</code> renvoie <b>0,2</b> secondes. Pouvez vous prédire la valeur de  <code>temps_execution(100000000)</code> sur ce même ordinateur ? Justifier.</font>"
   ]
  },
  {
   "cell_type": "code",
   "execution_count": null,
   "metadata": {},
   "outputs": [],
   "source": [
    "# Votre réponse ici\n"
   ]
  },
  {
   "cell_type": "markdown",
   "metadata": {},
   "source": [
    "## <font color=\"darkblue\"> &diams; Recherche dichotomique</font>\n",
    "\n",
    "On donne ci-dessous, la fonction python `recherche_dichotomie` vue dans l'activité 2 du chapitre. On rappelle que cette méthode de recherche **ne fonctionne que si la liste est triée**"
   ]
  },
  {
   "cell_type": "code",
   "execution_count": 3,
   "metadata": {},
   "outputs": [],
   "source": [
    "def recherche_dichotomie(element,liste):\n",
    "    debut = 0\n",
    "    fin = len(liste)-1\n",
    "    while fin-debut>0:\n",
    "        milieu = (debut+fin)//2\n",
    "        if element>liste[milieu]:\n",
    "            debut=milieu+1\n",
    "        else:\n",
    "            fin=milieu\n",
    "    if element==liste[debut]:\n",
    "        return True\n",
    "    else:\n",
    "        return False"
   ]
  },
  {
   "cell_type": "markdown",
   "metadata": {},
   "source": [
    "## <font color=\"darkblue\"> &diams; Comparaison des temps d'exécution</font>"
   ]
  },
  {
   "cell_type": "markdown",
   "metadata": {},
   "source": [
    "De la même façon que pour la recherche simple, on définit la fonction `temps_execution_dicho` afin de mesurer les temps d'exécution de cette fonction lorsque la taille de la liste augmente."
   ]
  },
  {
   "cell_type": "code",
   "execution_count": 4,
   "metadata": {},
   "outputs": [],
   "source": [
    "def temps_execution_dicho(n):\n",
    "    # On crée la liste des n premiers entiers\n",
    "    liste = [i for i in range(0,n)]\n",
    "    # On y recherche -1 (qui n'y est pas !) en mesurant le temps d'exécution\n",
    "    debut = time.time()\n",
    "    recherche_dichotomie(-1,liste)\n",
    "    fin = time.time()\n",
    "    return fin-debut"
   ]
  },
  {
   "cell_type": "markdown",
   "metadata": {},
   "source": [
    "## <font color=green> &#9998; Exercices </font>\n",
    "9. <font color='green'>Construire une liste <code>y_dicho</code> contenant les temps d'exécution de la recherche par dichotomie pour les valeurs de longeur de liste prises dans la liste <code>x</code></font>."
   ]
  },
  {
   "cell_type": "code",
   "execution_count": 1,
   "metadata": {},
   "outputs": [],
   "source": [
    "# Votre réponse ici\n"
   ]
  },
  {
   "cell_type": "markdown",
   "metadata": {},
   "source": [
    "On peut maintenant tracer sur le même graphique, les temps d'exécution de la recherche simple et de la recherche dichotomique."
   ]
  },
  {
   "cell_type": "code",
   "execution_count": null,
   "metadata": {},
   "outputs": [],
   "source": [
    "# Allure du graphique avec matplotlib\n",
    "import matplotlib.pyplot as plt\n",
    "plt.xlabel(\"Taille des donnés\")\n",
    "plt.ylabel(\"Temps d'exécution\")\n",
    "plt.suptitle(\"Comparaison recherche simple et recherche par dichotomie\")\n",
    "g1 = plt.plot(x, y,label=\"Recherche simple\")\n",
    "g2 = plt.plot(x,y_dicho,label=\"Recherche dichotomie\")\n",
    "plt.legend()"
   ]
  }
 ],
 "metadata": {
  "kernelspec": {
   "display_name": "Python 3",
   "language": "python",
   "name": "python3"
  },
  "language_info": {
   "codemirror_mode": {
    "name": "ipython",
    "version": 3
   },
   "file_extension": ".py",
   "mimetype": "text/x-python",
   "name": "python",
   "nbconvert_exporter": "python",
   "pygments_lexer": "ipython3",
   "version": "3.8.10"
  },
  "toc": {
   "base_numbering": 1,
   "nav_menu": {},
   "number_sections": false,
   "sideBar": true,
   "skip_h1_title": false,
   "title_cell": "Table of Contents",
   "title_sidebar": "Contents",
   "toc_cell": false,
   "toc_position": {},
   "toc_section_display": true,
   "toc_window_display": true
  }
 },
 "nbformat": 4,
 "nbformat_minor": 2
}
